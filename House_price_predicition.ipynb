{
  "nbformat": 4,
  "nbformat_minor": 0,
  "metadata": {
    "colab": {
      "name": "House price predicition.ipynb",
      "provenance": [],
      "collapsed_sections": []
    },
    "kernelspec": {
      "name": "python3",
      "display_name": "Python 3"
    },
    "language_info": {
      "name": "python"
    }
  },
  "cells": [
    {
      "cell_type": "markdown",
      "metadata": {
        "id": "fIcT6PrjuJLQ"
      },
      "source": [
        "importing the Directories"
      ]
    },
    {
      "cell_type": "code",
      "metadata": {
        "id": "SVzJEBuHreu8"
      },
      "source": [
        "import numpy as np\n",
        "import pandas as pd\n",
        "import mathplotlib.pyplot as plt\n",
        "import seaborn as sns\n",
        "import sklearn "
      ],
      "execution_count": null,
      "outputs": []
    }
  ]
}